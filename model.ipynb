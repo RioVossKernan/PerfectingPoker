{
 "cells": [
  {
   "cell_type": "markdown",
   "metadata": {},
   "source": [
    "Guidance on using this dataset: https://www.kaggle.com/code/acelevin/identifying-playing-cards"
   ]
  },
  {
   "cell_type": "markdown",
   "metadata": {},
   "source": [
    "Download dataset from: https://www.kaggle.com/datasets/gunhcolab/object-detection-dataset-standard-52card-deck/data"
   ]
  },
  {
   "cell_type": "code",
   "execution_count": 4,
   "metadata": {},
   "outputs": [],
   "source": [
    "import torch\n",
    "import torchvision\n",
    "from PIL import Image\n",
    "from torch.utils.data import Dataset\n",
    "import os\n",
    "from torchvision import transforms\n",
    "from torch.utils.data import DataLoader\n",
    "import pandas as pd\n",
    "import numpy as np\n",
    "import time\n",
    "import matplotlib.pyplot as plt"
   ]
  },
  {
   "cell_type": "code",
   "execution_count": 27,
   "metadata": {},
   "outputs": [],
   "source": [
    "#hyper parameters:\n",
    "RANDOM_SEED = 123\n",
    "BATCH_SIZE = 32\n",
    "NUM_EPOCHS = 256"
   ]
  },
  {
   "cell_type": "code",
   "execution_count": 24,
   "metadata": {},
   "outputs": [
    {
     "name": "stdout",
     "output_type": "stream",
     "text": [
      "Empty DataFrame\n",
      "Columns: [filename, width, height, class, xmin, ymin, xmax, ymax, class_number]\n",
      "Index: []\n",
      "Empty DataFrame\n",
      "Columns: [filename, width, height, class, xmin, ymin, xmax, ymax, class_number]\n",
      "Index: []\n"
     ]
    }
   ],
   "source": [
    "# Load in data\n",
    "train_labels = pd.read_csv(\"data/train_labels.csv\")\n",
    "test_labels = pd.read_csv(\"data/test_labels.csv\")\n",
    "\n",
    "# change class labels from str to int\n",
    "name_to_int_dict = {'ace of spades': 0, 'two of spades':1, 'three of spades':2, 'four of spades':3, \n",
    "                    'five of spades':4, 'six of spades':5, 'seven of spades':6, 'eight of spades':7, \n",
    "                    'nine of spades':8, 'ten of spades':9, 'jack of spades':10, 'queen of spades':11, \n",
    "                    'king of spades':12, 'ace of hearts': 13, 'two of hearts': 14, 'three of hearts': 15, \n",
    "                    'four of hearts': 16, 'five of hearts': 17, 'six of hearts': 18, 'seven of hearts':19, \n",
    "                    'eight of hearts':20, 'nine of hearts':21, 'ten of hearts':22, 'jack of hearts': 23, \n",
    "                    'queen of hearts': 24, 'king of hearts':25, 'ace of clubs': 26, 'two of clubs': 27, \n",
    "                    'three of clubs': 28, 'four of clubs': 29, 'five of clubs': 30, 'six of clubs': 31,\n",
    "                    'seven of clubs':32, 'eight of clubs':33, 'nine of clubs':34, 'ten of clubs':35, \n",
    "                    'jack of clubs': 36, 'queen of clubs': 37, 'king of clubs':38, 'ace of diamonds': 39, \n",
    "                    'two of diamonds': 40, 'three of diamonds': 41, 'four of diamonds': 42, 'five of diamonds': 43, \n",
    "                    'six of diamonds': 44,'seven of diamonds':45, 'eight of diamonds':46, 'nine of diamonds':47, \n",
    "                    'ten of diamonds':48, 'jack of diamonds': 49, 'queen of diamonds': 50,'king of diamonds':51,\n",
    "                    \n",
    "                    # these are to account for some typos in the dataset\n",
    "                    'three of dimaonds': 41, 'four of dimaonds': 42, 'five of dimaonds': 43, 'six of dimaonds': 44, \n",
    "                    'eigth of clubs':33, 'seven of seven':32 \n",
    "                    }\n",
    "\n",
    "test_labels['class_number'] = test_labels['class'].map(name_to_int_dict)\n",
    "train_labels['class_number'] = train_labels['class'].map(name_to_int_dict)\n",
    "\n",
    "# These should print empty to show that all labels are accounted for\n",
    "print(test_labels.loc[test_labels['class_number'].isnull()])\n",
    "print(train_labels.loc[train_labels['class_number'].isnull()])"
   ]
  },
  {
   "cell_type": "code",
   "execution_count": null,
   "metadata": {},
   "outputs": [],
   "source": []
  }
 ],
 "metadata": {
  "kernelspec": {
   "display_name": "cs1430",
   "language": "python",
   "name": "python3"
  },
  "language_info": {
   "codemirror_mode": {
    "name": "ipython",
    "version": 3
   },
   "file_extension": ".py",
   "mimetype": "text/x-python",
   "name": "python",
   "nbconvert_exporter": "python",
   "pygments_lexer": "ipython3",
   "version": "3.9.19"
  }
 },
 "nbformat": 4,
 "nbformat_minor": 2
}
